{
 "cells": [
  {
   "cell_type": "markdown",
   "id": "a936e31a",
   "metadata": {
    "papermill": {
     "duration": 0.009257,
     "end_time": "2024-01-13T13:02:25.934441",
     "exception": false,
     "start_time": "2024-01-13T13:02:25.925184",
     "status": "completed"
    },
    "tags": []
   },
   "source": [
    "## Python Libraries"
   ]
  },
  {
   "cell_type": "code",
   "execution_count": 9,
   "id": "ae6981b9",
   "metadata": {
    "papermill": {
     "duration": 3.115881,
     "end_time": "2024-01-13T13:02:29.059220",
     "exception": false,
     "start_time": "2024-01-13T13:02:25.943339",
     "status": "completed"
    },
    "tags": []
   },
   "outputs": [],
   "source": [
    "import numpy as np \n",
    "import pandas as pd \n",
    "import seaborn as sns\n",
    "import matplotlib.pyplot as plt\n",
    "\n",
    "from sklearn.preprocessing import StandardScaler\n",
    "import statsmodels.api as sm\n",
    "import statsmodels.formula.api as smf\n",
    "scaler = StandardScaler()\n",
    "from sklearn.model_selection import train_test_split\n",
    "from sklearn.neighbors import KNeighborsClassifier\n",
    "import sklearn\n",
    "\n",
    "from sklearn.linear_model import LogisticRegression\n",
    "from sklearn.preprocessing import StandardScaler\n",
    "from sklearn.model_selection import train_test_split, GridSearchCV\n",
    "from sklearn.metrics import accuracy_score, roc_curve\n",
    "from sklearn.svm import SVC\n",
    "from sklearn.metrics import classification_report\n",
    "from sklearn.neighbors import KNeighborsClassifier\n",
    "from sklearn.naive_bayes import GaussianNB\n",
    "from sklearn.model_selection import cross_val_score\n",
    "\n",
    "\n",
    "import warnings\n",
    "warnings.filterwarnings(\"ignore\")"
   ]
  },
  {
   "cell_type": "markdown",
   "id": "d8412eb6",
   "metadata": {
    "papermill": {
     "duration": 0.008444,
     "end_time": "2024-01-13T13:02:29.076858",
     "exception": false,
     "start_time": "2024-01-13T13:02:29.068414",
     "status": "completed"
    },
    "tags": []
   },
   "source": [
    "## Read and Analyse Data"
   ]
  },
  {
   "cell_type": "code",
   "execution_count": 10,
   "id": "05af3195",
   "metadata": {
    "papermill": {
     "duration": 0.02406,
     "end_time": "2024-01-13T13:02:29.109534",
     "exception": false,
     "start_time": "2024-01-13T13:02:29.085474",
     "status": "completed"
    },
    "tags": []
   },
   "outputs": [],
   "source": [
    "# This Python 3 environment comes with many helpful analytics libraries installed\n",
    "# It is defined by the kaggle/python Docker image: https://github.com/kaggle/docker-python\n",
    "# For example, here's several helpful packages to load\n",
    "\n",
    "import numpy as np # linear algebra\n",
    "import pandas as pd # data processing, CSV file I/O (e.g. pd.read_csv)\n",
    "\n",
    "# Input data files are available in the read-only \"../input/\" directory\n",
    "# For example, running this (by clicking run or pressing Shift+Enter) will list all files under the input directory\n",
    "\n",
    "import os\n",
    "for dirname, _, filenames in os.walk('/kaggle/input'):\n",
    "    for filename in filenames:\n",
    "        print(os.path.join(dirname, filename))\n",
    "\n",
    "# You can write up to 20GB to the current directory (/kaggle/working/) that gets preserved as output when you create a version using \"Save & Run All\" \n",
    "# You can also write temporary files to /kaggle/temp/, but they won't be saved outside of the current session"
   ]
  },
  {
   "cell_type": "code",
   "execution_count": 12,
   "id": "9c5cf6bf",
   "metadata": {
    "papermill": {
     "duration": 0.071637,
     "end_time": "2024-01-13T13:02:29.190909",
     "exception": false,
     "start_time": "2024-01-13T13:02:29.119272",
     "status": "completed"
    },
    "tags": []
   },
   "outputs": [],
   "source": [
    "# read data \n",
    "df = pd.read_csv(\"NY-House-Dataset.csv\")"
   ]
  },
  {
   "cell_type": "code",
   "execution_count": 13,
   "id": "8b66c2db",
   "metadata": {
    "papermill": {
     "duration": 0.039439,
     "end_time": "2024-01-13T13:02:29.239323",
     "exception": false,
     "start_time": "2024-01-13T13:02:29.199884",
     "status": "completed"
    },
    "tags": []
   },
   "outputs": [
    {
     "data": {
      "text/html": [
       "<div>\n",
       "<style scoped>\n",
       "    .dataframe tbody tr th:only-of-type {\n",
       "        vertical-align: middle;\n",
       "    }\n",
       "\n",
       "    .dataframe tbody tr th {\n",
       "        vertical-align: top;\n",
       "    }\n",
       "\n",
       "    .dataframe thead th {\n",
       "        text-align: right;\n",
       "    }\n",
       "</style>\n",
       "<table border=\"1\" class=\"dataframe\">\n",
       "  <thead>\n",
       "    <tr style=\"text-align: right;\">\n",
       "      <th></th>\n",
       "      <th>BROKERTITLE</th>\n",
       "      <th>TYPE</th>\n",
       "      <th>PRICE</th>\n",
       "      <th>BEDS</th>\n",
       "      <th>BATH</th>\n",
       "      <th>PROPERTYSQFT</th>\n",
       "      <th>ADDRESS</th>\n",
       "      <th>STATE</th>\n",
       "      <th>MAIN_ADDRESS</th>\n",
       "      <th>ADMINISTRATIVE_AREA_LEVEL_2</th>\n",
       "      <th>LOCALITY</th>\n",
       "      <th>SUBLOCALITY</th>\n",
       "      <th>STREET_NAME</th>\n",
       "      <th>LONG_NAME</th>\n",
       "      <th>FORMATTED_ADDRESS</th>\n",
       "      <th>LATITUDE</th>\n",
       "      <th>LONGITUDE</th>\n",
       "    </tr>\n",
       "  </thead>\n",
       "  <tbody>\n",
       "    <tr>\n",
       "      <th>0</th>\n",
       "      <td>Brokered by Douglas Elliman  -111 Fifth Ave</td>\n",
       "      <td>Condo for sale</td>\n",
       "      <td>315000</td>\n",
       "      <td>2</td>\n",
       "      <td>2.000000</td>\n",
       "      <td>1400.0</td>\n",
       "      <td>2 E 55th St Unit 803</td>\n",
       "      <td>New York, NY 10022</td>\n",
       "      <td>2 E 55th St Unit 803New York, NY 10022</td>\n",
       "      <td>New York County</td>\n",
       "      <td>New York</td>\n",
       "      <td>Manhattan</td>\n",
       "      <td>East 55th Street</td>\n",
       "      <td>Regis Residence</td>\n",
       "      <td>Regis Residence, 2 E 55th St #803, New York, N...</td>\n",
       "      <td>40.761255</td>\n",
       "      <td>-73.974483</td>\n",
       "    </tr>\n",
       "    <tr>\n",
       "      <th>1</th>\n",
       "      <td>Brokered by Serhant</td>\n",
       "      <td>Condo for sale</td>\n",
       "      <td>195000000</td>\n",
       "      <td>7</td>\n",
       "      <td>10.000000</td>\n",
       "      <td>17545.0</td>\n",
       "      <td>Central Park Tower Penthouse-217 W 57th New Yo...</td>\n",
       "      <td>New York, NY 10019</td>\n",
       "      <td>Central Park Tower Penthouse-217 W 57th New Yo...</td>\n",
       "      <td>United States</td>\n",
       "      <td>New York</td>\n",
       "      <td>New York County</td>\n",
       "      <td>New York</td>\n",
       "      <td>West 57th Street</td>\n",
       "      <td>217 W 57th St, New York, NY 10019, USA</td>\n",
       "      <td>40.766393</td>\n",
       "      <td>-73.980991</td>\n",
       "    </tr>\n",
       "    <tr>\n",
       "      <th>2</th>\n",
       "      <td>Brokered by Sowae Corp</td>\n",
       "      <td>House for sale</td>\n",
       "      <td>260000</td>\n",
       "      <td>4</td>\n",
       "      <td>2.000000</td>\n",
       "      <td>2015.0</td>\n",
       "      <td>620 Sinclair Ave</td>\n",
       "      <td>Staten Island, NY 10312</td>\n",
       "      <td>620 Sinclair AveStaten Island, NY 10312</td>\n",
       "      <td>United States</td>\n",
       "      <td>New York</td>\n",
       "      <td>Richmond County</td>\n",
       "      <td>Staten Island</td>\n",
       "      <td>Sinclair Avenue</td>\n",
       "      <td>620 Sinclair Ave, Staten Island, NY 10312, USA</td>\n",
       "      <td>40.541805</td>\n",
       "      <td>-74.196109</td>\n",
       "    </tr>\n",
       "    <tr>\n",
       "      <th>3</th>\n",
       "      <td>Brokered by COMPASS</td>\n",
       "      <td>Condo for sale</td>\n",
       "      <td>69000</td>\n",
       "      <td>3</td>\n",
       "      <td>1.000000</td>\n",
       "      <td>445.0</td>\n",
       "      <td>2 E 55th St Unit 908W33</td>\n",
       "      <td>Manhattan, NY 10022</td>\n",
       "      <td>2 E 55th St Unit 908W33Manhattan, NY 10022</td>\n",
       "      <td>United States</td>\n",
       "      <td>New York</td>\n",
       "      <td>New York County</td>\n",
       "      <td>New York</td>\n",
       "      <td>East 55th Street</td>\n",
       "      <td>2 E 55th St, New York, NY 10022, USA</td>\n",
       "      <td>40.761398</td>\n",
       "      <td>-73.974613</td>\n",
       "    </tr>\n",
       "    <tr>\n",
       "      <th>4</th>\n",
       "      <td>Brokered by Sotheby's International Realty - E...</td>\n",
       "      <td>Townhouse for sale</td>\n",
       "      <td>55000000</td>\n",
       "      <td>7</td>\n",
       "      <td>2.373861</td>\n",
       "      <td>14175.0</td>\n",
       "      <td>5 E 64th St</td>\n",
       "      <td>New York, NY 10065</td>\n",
       "      <td>5 E 64th StNew York, NY 10065</td>\n",
       "      <td>United States</td>\n",
       "      <td>New York</td>\n",
       "      <td>New York County</td>\n",
       "      <td>New York</td>\n",
       "      <td>East 64th Street</td>\n",
       "      <td>5 E 64th St, New York, NY 10065, USA</td>\n",
       "      <td>40.767224</td>\n",
       "      <td>-73.969856</td>\n",
       "    </tr>\n",
       "  </tbody>\n",
       "</table>\n",
       "</div>"
      ],
      "text/plain": [
       "                                         BROKERTITLE                TYPE  \\\n",
       "0        Brokered by Douglas Elliman  -111 Fifth Ave      Condo for sale   \n",
       "1                                Brokered by Serhant      Condo for sale   \n",
       "2                             Brokered by Sowae Corp      House for sale   \n",
       "3                                Brokered by COMPASS      Condo for sale   \n",
       "4  Brokered by Sotheby's International Realty - E...  Townhouse for sale   \n",
       "\n",
       "       PRICE  BEDS       BATH  PROPERTYSQFT  \\\n",
       "0     315000     2   2.000000        1400.0   \n",
       "1  195000000     7  10.000000       17545.0   \n",
       "2     260000     4   2.000000        2015.0   \n",
       "3      69000     3   1.000000         445.0   \n",
       "4   55000000     7   2.373861       14175.0   \n",
       "\n",
       "                                             ADDRESS                    STATE  \\\n",
       "0                               2 E 55th St Unit 803       New York, NY 10022   \n",
       "1  Central Park Tower Penthouse-217 W 57th New Yo...       New York, NY 10019   \n",
       "2                                   620 Sinclair Ave  Staten Island, NY 10312   \n",
       "3                            2 E 55th St Unit 908W33      Manhattan, NY 10022   \n",
       "4                                        5 E 64th St       New York, NY 10065   \n",
       "\n",
       "                                        MAIN_ADDRESS  \\\n",
       "0             2 E 55th St Unit 803New York, NY 10022   \n",
       "1  Central Park Tower Penthouse-217 W 57th New Yo...   \n",
       "2            620 Sinclair AveStaten Island, NY 10312   \n",
       "3         2 E 55th St Unit 908W33Manhattan, NY 10022   \n",
       "4                      5 E 64th StNew York, NY 10065   \n",
       "\n",
       "  ADMINISTRATIVE_AREA_LEVEL_2  LOCALITY      SUBLOCALITY       STREET_NAME  \\\n",
       "0             New York County  New York        Manhattan  East 55th Street   \n",
       "1               United States  New York  New York County          New York   \n",
       "2               United States  New York  Richmond County     Staten Island   \n",
       "3               United States  New York  New York County          New York   \n",
       "4               United States  New York  New York County          New York   \n",
       "\n",
       "          LONG_NAME                                  FORMATTED_ADDRESS  \\\n",
       "0   Regis Residence  Regis Residence, 2 E 55th St #803, New York, N...   \n",
       "1  West 57th Street             217 W 57th St, New York, NY 10019, USA   \n",
       "2   Sinclair Avenue     620 Sinclair Ave, Staten Island, NY 10312, USA   \n",
       "3  East 55th Street               2 E 55th St, New York, NY 10022, USA   \n",
       "4  East 64th Street               5 E 64th St, New York, NY 10065, USA   \n",
       "\n",
       "    LATITUDE  LONGITUDE  \n",
       "0  40.761255 -73.974483  \n",
       "1  40.766393 -73.980991  \n",
       "2  40.541805 -74.196109  \n",
       "3  40.761398 -73.974613  \n",
       "4  40.767224 -73.969856  "
      ]
     },
     "execution_count": 13,
     "metadata": {},
     "output_type": "execute_result"
    }
   ],
   "source": [
    "df.head()"
   ]
  },
  {
   "cell_type": "code",
   "execution_count": 14,
   "id": "1fcf2adb",
   "metadata": {
    "papermill": {
     "duration": 0.038024,
     "end_time": "2024-01-13T13:02:29.286444",
     "exception": false,
     "start_time": "2024-01-13T13:02:29.248420",
     "status": "completed"
    },
    "tags": []
   },
   "outputs": [
    {
     "name": "stdout",
     "output_type": "stream",
     "text": [
      "<class 'pandas.core.frame.DataFrame'>\n",
      "RangeIndex: 4801 entries, 0 to 4800\n",
      "Data columns (total 17 columns):\n",
      " #   Column                       Non-Null Count  Dtype  \n",
      "---  ------                       --------------  -----  \n",
      " 0   BROKERTITLE                  4801 non-null   object \n",
      " 1   TYPE                         4801 non-null   object \n",
      " 2   PRICE                        4801 non-null   int64  \n",
      " 3   BEDS                         4801 non-null   int64  \n",
      " 4   BATH                         4801 non-null   float64\n",
      " 5   PROPERTYSQFT                 4801 non-null   float64\n",
      " 6   ADDRESS                      4801 non-null   object \n",
      " 7   STATE                        4801 non-null   object \n",
      " 8   MAIN_ADDRESS                 4801 non-null   object \n",
      " 9   ADMINISTRATIVE_AREA_LEVEL_2  4801 non-null   object \n",
      " 10  LOCALITY                     4801 non-null   object \n",
      " 11  SUBLOCALITY                  4801 non-null   object \n",
      " 12  STREET_NAME                  4801 non-null   object \n",
      " 13  LONG_NAME                    4801 non-null   object \n",
      " 14  FORMATTED_ADDRESS            4801 non-null   object \n",
      " 15  LATITUDE                     4801 non-null   float64\n",
      " 16  LONGITUDE                    4801 non-null   float64\n",
      "dtypes: float64(4), int64(2), object(11)\n",
      "memory usage: 637.8+ KB\n"
     ]
    }
   ],
   "source": [
    "df.info()"
   ]
  },
  {
   "cell_type": "code",
   "execution_count": 15,
   "id": "3272eff5",
   "metadata": {
    "papermill": {
     "duration": 0.0313,
     "end_time": "2024-01-13T13:02:29.327223",
     "exception": false,
     "start_time": "2024-01-13T13:02:29.295923",
     "status": "completed"
    },
    "tags": []
   },
   "outputs": [
    {
     "data": {
      "text/html": [
       "<div>\n",
       "<style scoped>\n",
       "    .dataframe tbody tr th:only-of-type {\n",
       "        vertical-align: middle;\n",
       "    }\n",
       "\n",
       "    .dataframe tbody tr th {\n",
       "        vertical-align: top;\n",
       "    }\n",
       "\n",
       "    .dataframe thead th {\n",
       "        text-align: right;\n",
       "    }\n",
       "</style>\n",
       "<table border=\"1\" class=\"dataframe\">\n",
       "  <thead>\n",
       "    <tr style=\"text-align: right;\">\n",
       "      <th></th>\n",
       "      <th>BROKERTITLE</th>\n",
       "      <th>TYPE</th>\n",
       "      <th>PRICE</th>\n",
       "      <th>BEDS</th>\n",
       "      <th>BATH</th>\n",
       "      <th>PROPERTYSQFT</th>\n",
       "      <th>ADDRESS</th>\n",
       "      <th>STATE</th>\n",
       "      <th>MAIN_ADDRESS</th>\n",
       "      <th>ADMINISTRATIVE_AREA_LEVEL_2</th>\n",
       "      <th>LOCALITY</th>\n",
       "      <th>SUBLOCALITY</th>\n",
       "      <th>STREET_NAME</th>\n",
       "      <th>LONG_NAME</th>\n",
       "      <th>FORMATTED_ADDRESS</th>\n",
       "      <th>LATITUDE</th>\n",
       "      <th>LONGITUDE</th>\n",
       "    </tr>\n",
       "  </thead>\n",
       "  <tbody>\n",
       "    <tr>\n",
       "      <th>4796</th>\n",
       "      <td>Brokered by COMPASS</td>\n",
       "      <td>Co-op for sale</td>\n",
       "      <td>599000</td>\n",
       "      <td>1</td>\n",
       "      <td>1.0</td>\n",
       "      <td>2184.207862</td>\n",
       "      <td>222 E 80th St Apt 3A</td>\n",
       "      <td>Manhattan, NY 10075</td>\n",
       "      <td>222 E 80th St Apt 3AManhattan, NY 10075</td>\n",
       "      <td>New York</td>\n",
       "      <td>New York County</td>\n",
       "      <td>New York</td>\n",
       "      <td>Manhattan</td>\n",
       "      <td>222</td>\n",
       "      <td>222 E 80th St #3a, New York, NY 10075, USA</td>\n",
       "      <td>40.774350</td>\n",
       "      <td>-73.955879</td>\n",
       "    </tr>\n",
       "    <tr>\n",
       "      <th>4797</th>\n",
       "      <td>Brokered by Mjr Real Estate Llc</td>\n",
       "      <td>Co-op for sale</td>\n",
       "      <td>245000</td>\n",
       "      <td>1</td>\n",
       "      <td>1.0</td>\n",
       "      <td>2184.207862</td>\n",
       "      <td>97-40 62 Dr Unit Lg</td>\n",
       "      <td>Rego Park, NY 11374</td>\n",
       "      <td>97-40 62 Dr Unit LgRego Park, NY 11374</td>\n",
       "      <td>United States</td>\n",
       "      <td>New York</td>\n",
       "      <td>Queens County</td>\n",
       "      <td>Queens</td>\n",
       "      <td>62nd Drive</td>\n",
       "      <td>97-40 62nd Dr, Rego Park, NY 11374, USA</td>\n",
       "      <td>40.732538</td>\n",
       "      <td>-73.860152</td>\n",
       "    </tr>\n",
       "    <tr>\n",
       "      <th>4798</th>\n",
       "      <td>Brokered by Douglas Elliman - 575 Madison Ave</td>\n",
       "      <td>Co-op for sale</td>\n",
       "      <td>1275000</td>\n",
       "      <td>1</td>\n",
       "      <td>1.0</td>\n",
       "      <td>2184.207862</td>\n",
       "      <td>427 W 21st St Unit Garden</td>\n",
       "      <td>New York, NY 10011</td>\n",
       "      <td>427 W 21st St Unit GardenNew York, NY 10011</td>\n",
       "      <td>United States</td>\n",
       "      <td>New York</td>\n",
       "      <td>New York County</td>\n",
       "      <td>New York</td>\n",
       "      <td>West 21st Street</td>\n",
       "      <td>427 W 21st St, New York, NY 10011, USA</td>\n",
       "      <td>40.745882</td>\n",
       "      <td>-74.003398</td>\n",
       "    </tr>\n",
       "    <tr>\n",
       "      <th>4799</th>\n",
       "      <td>Brokered by E Realty International Corp</td>\n",
       "      <td>Condo for sale</td>\n",
       "      <td>598125</td>\n",
       "      <td>2</td>\n",
       "      <td>1.0</td>\n",
       "      <td>655.000000</td>\n",
       "      <td>91-23 Corona Ave Unit 4G</td>\n",
       "      <td>Elmhurst, NY 11373</td>\n",
       "      <td>91-23 Corona Ave Unit 4GElmhurst, NY 11373</td>\n",
       "      <td>New York</td>\n",
       "      <td>Queens County</td>\n",
       "      <td>Queens</td>\n",
       "      <td>Flushing</td>\n",
       "      <td>91-23</td>\n",
       "      <td>91-23 Corona Ave. #4b, Flushing, NY 11373, USA</td>\n",
       "      <td>40.742770</td>\n",
       "      <td>-73.872752</td>\n",
       "    </tr>\n",
       "    <tr>\n",
       "      <th>4800</th>\n",
       "      <td>Brokered by Nyc Realty Brokers Llc</td>\n",
       "      <td>Co-op for sale</td>\n",
       "      <td>349000</td>\n",
       "      <td>1</td>\n",
       "      <td>1.0</td>\n",
       "      <td>750.000000</td>\n",
       "      <td>460 Neptune Ave Apt 14O</td>\n",
       "      <td>Brooklyn, NY 11224</td>\n",
       "      <td>460 Neptune Ave Apt 14OBrooklyn, NY 11224</td>\n",
       "      <td>New York</td>\n",
       "      <td>Kings County</td>\n",
       "      <td>Brooklyn</td>\n",
       "      <td>Coney Island</td>\n",
       "      <td>460</td>\n",
       "      <td>460 Neptune Ave #14a, Brooklyn, NY 11224, USA</td>\n",
       "      <td>40.579147</td>\n",
       "      <td>-73.970949</td>\n",
       "    </tr>\n",
       "  </tbody>\n",
       "</table>\n",
       "</div>"
      ],
      "text/plain": [
       "                                        BROKERTITLE            TYPE    PRICE  \\\n",
       "4796                            Brokered by COMPASS  Co-op for sale   599000   \n",
       "4797                Brokered by Mjr Real Estate Llc  Co-op for sale   245000   \n",
       "4798  Brokered by Douglas Elliman - 575 Madison Ave  Co-op for sale  1275000   \n",
       "4799        Brokered by E Realty International Corp  Condo for sale   598125   \n",
       "4800             Brokered by Nyc Realty Brokers Llc  Co-op for sale   349000   \n",
       "\n",
       "      BEDS  BATH  PROPERTYSQFT                    ADDRESS  \\\n",
       "4796     1   1.0   2184.207862       222 E 80th St Apt 3A   \n",
       "4797     1   1.0   2184.207862        97-40 62 Dr Unit Lg   \n",
       "4798     1   1.0   2184.207862  427 W 21st St Unit Garden   \n",
       "4799     2   1.0    655.000000   91-23 Corona Ave Unit 4G   \n",
       "4800     1   1.0    750.000000    460 Neptune Ave Apt 14O   \n",
       "\n",
       "                    STATE                                 MAIN_ADDRESS  \\\n",
       "4796  Manhattan, NY 10075      222 E 80th St Apt 3AManhattan, NY 10075   \n",
       "4797  Rego Park, NY 11374       97-40 62 Dr Unit LgRego Park, NY 11374   \n",
       "4798   New York, NY 10011  427 W 21st St Unit GardenNew York, NY 10011   \n",
       "4799   Elmhurst, NY 11373   91-23 Corona Ave Unit 4GElmhurst, NY 11373   \n",
       "4800   Brooklyn, NY 11224    460 Neptune Ave Apt 14OBrooklyn, NY 11224   \n",
       "\n",
       "     ADMINISTRATIVE_AREA_LEVEL_2         LOCALITY      SUBLOCALITY  \\\n",
       "4796                    New York  New York County         New York   \n",
       "4797               United States         New York    Queens County   \n",
       "4798               United States         New York  New York County   \n",
       "4799                    New York    Queens County           Queens   \n",
       "4800                    New York     Kings County         Brooklyn   \n",
       "\n",
       "       STREET_NAME         LONG_NAME  \\\n",
       "4796     Manhattan               222   \n",
       "4797        Queens        62nd Drive   \n",
       "4798      New York  West 21st Street   \n",
       "4799      Flushing             91-23   \n",
       "4800  Coney Island               460   \n",
       "\n",
       "                                   FORMATTED_ADDRESS   LATITUDE  LONGITUDE  \n",
       "4796      222 E 80th St #3a, New York, NY 10075, USA  40.774350 -73.955879  \n",
       "4797         97-40 62nd Dr, Rego Park, NY 11374, USA  40.732538 -73.860152  \n",
       "4798          427 W 21st St, New York, NY 10011, USA  40.745882 -74.003398  \n",
       "4799  91-23 Corona Ave. #4b, Flushing, NY 11373, USA  40.742770 -73.872752  \n",
       "4800   460 Neptune Ave #14a, Brooklyn, NY 11224, USA  40.579147 -73.970949  "
      ]
     },
     "execution_count": 15,
     "metadata": {},
     "output_type": "execute_result"
    }
   ],
   "source": [
    "df.tail()"
   ]
  },
  {
   "cell_type": "code",
   "execution_count": 16,
   "id": "ba8663fc",
   "metadata": {
    "papermill": {
     "duration": 0.043248,
     "end_time": "2024-01-13T13:02:29.379965",
     "exception": false,
     "start_time": "2024-01-13T13:02:29.336717",
     "status": "completed"
    },
    "tags": []
   },
   "outputs": [
    {
     "data": {
      "text/html": [
       "<div>\n",
       "<style scoped>\n",
       "    .dataframe tbody tr th:only-of-type {\n",
       "        vertical-align: middle;\n",
       "    }\n",
       "\n",
       "    .dataframe tbody tr th {\n",
       "        vertical-align: top;\n",
       "    }\n",
       "\n",
       "    .dataframe thead th {\n",
       "        text-align: right;\n",
       "    }\n",
       "</style>\n",
       "<table border=\"1\" class=\"dataframe\">\n",
       "  <thead>\n",
       "    <tr style=\"text-align: right;\">\n",
       "      <th></th>\n",
       "      <th>count</th>\n",
       "      <th>mean</th>\n",
       "      <th>std</th>\n",
       "      <th>min</th>\n",
       "      <th>25%</th>\n",
       "      <th>50%</th>\n",
       "      <th>75%</th>\n",
       "      <th>max</th>\n",
       "    </tr>\n",
       "  </thead>\n",
       "  <tbody>\n",
       "    <tr>\n",
       "      <th>PRICE</th>\n",
       "      <td>4801.0</td>\n",
       "      <td>2.356940e+06</td>\n",
       "      <td>3.135525e+07</td>\n",
       "      <td>2494.000000</td>\n",
       "      <td>499000.000000</td>\n",
       "      <td>825000.000000</td>\n",
       "      <td>1.495000e+06</td>\n",
       "      <td>2.147484e+09</td>\n",
       "    </tr>\n",
       "    <tr>\n",
       "      <th>BEDS</th>\n",
       "      <td>4801.0</td>\n",
       "      <td>3.356801e+00</td>\n",
       "      <td>2.602315e+00</td>\n",
       "      <td>1.000000</td>\n",
       "      <td>2.000000</td>\n",
       "      <td>3.000000</td>\n",
       "      <td>4.000000e+00</td>\n",
       "      <td>5.000000e+01</td>\n",
       "    </tr>\n",
       "    <tr>\n",
       "      <th>BATH</th>\n",
       "      <td>4801.0</td>\n",
       "      <td>2.373861e+00</td>\n",
       "      <td>1.946962e+00</td>\n",
       "      <td>0.000000</td>\n",
       "      <td>1.000000</td>\n",
       "      <td>2.000000</td>\n",
       "      <td>3.000000e+00</td>\n",
       "      <td>5.000000e+01</td>\n",
       "    </tr>\n",
       "    <tr>\n",
       "      <th>PROPERTYSQFT</th>\n",
       "      <td>4801.0</td>\n",
       "      <td>2.184208e+03</td>\n",
       "      <td>2.377141e+03</td>\n",
       "      <td>230.000000</td>\n",
       "      <td>1200.000000</td>\n",
       "      <td>2184.207862</td>\n",
       "      <td>2.184208e+03</td>\n",
       "      <td>6.553500e+04</td>\n",
       "    </tr>\n",
       "    <tr>\n",
       "      <th>LATITUDE</th>\n",
       "      <td>4801.0</td>\n",
       "      <td>4.071423e+01</td>\n",
       "      <td>8.767557e-02</td>\n",
       "      <td>40.499546</td>\n",
       "      <td>40.639375</td>\n",
       "      <td>40.726749</td>\n",
       "      <td>4.077192e+01</td>\n",
       "      <td>4.091273e+01</td>\n",
       "    </tr>\n",
       "    <tr>\n",
       "      <th>LONGITUDE</th>\n",
       "      <td>4801.0</td>\n",
       "      <td>-7.394160e+01</td>\n",
       "      <td>1.010825e-01</td>\n",
       "      <td>-74.253033</td>\n",
       "      <td>-73.987143</td>\n",
       "      <td>-73.949189</td>\n",
       "      <td>-7.387064e+01</td>\n",
       "      <td>-7.370245e+01</td>\n",
       "    </tr>\n",
       "  </tbody>\n",
       "</table>\n",
       "</div>"
      ],
      "text/plain": [
       "               count          mean           std          min            25%  \\\n",
       "PRICE         4801.0  2.356940e+06  3.135525e+07  2494.000000  499000.000000   \n",
       "BEDS          4801.0  3.356801e+00  2.602315e+00     1.000000       2.000000   \n",
       "BATH          4801.0  2.373861e+00  1.946962e+00     0.000000       1.000000   \n",
       "PROPERTYSQFT  4801.0  2.184208e+03  2.377141e+03   230.000000    1200.000000   \n",
       "LATITUDE      4801.0  4.071423e+01  8.767557e-02    40.499546      40.639375   \n",
       "LONGITUDE     4801.0 -7.394160e+01  1.010825e-01   -74.253033     -73.987143   \n",
       "\n",
       "                        50%           75%           max  \n",
       "PRICE         825000.000000  1.495000e+06  2.147484e+09  \n",
       "BEDS               3.000000  4.000000e+00  5.000000e+01  \n",
       "BATH               2.000000  3.000000e+00  5.000000e+01  \n",
       "PROPERTYSQFT    2184.207862  2.184208e+03  6.553500e+04  \n",
       "LATITUDE          40.726749  4.077192e+01  4.091273e+01  \n",
       "LONGITUDE        -73.949189 -7.387064e+01 -7.370245e+01  "
      ]
     },
     "execution_count": 16,
     "metadata": {},
     "output_type": "execute_result"
    }
   ],
   "source": [
    "df.describe().T"
   ]
  },
  {
   "cell_type": "markdown",
   "id": "82a4be6c",
   "metadata": {
    "papermill": {
     "duration": 0.009421,
     "end_time": "2024-01-13T13:02:29.399189",
     "exception": false,
     "start_time": "2024-01-13T13:02:29.389768",
     "status": "completed"
    },
    "tags": []
   },
   "source": [
    "## Missing Value Analysis"
   ]
  },
  {
   "cell_type": "code",
   "execution_count": 17,
   "id": "7f4bf750",
   "metadata": {
    "papermill": {
     "duration": 0.022637,
     "end_time": "2024-01-13T13:02:29.431364",
     "exception": false,
     "start_time": "2024-01-13T13:02:29.408727",
     "status": "completed"
    },
    "tags": []
   },
   "outputs": [
    {
     "data": {
      "text/plain": [
       "0"
      ]
     },
     "execution_count": 17,
     "metadata": {},
     "output_type": "execute_result"
    }
   ],
   "source": [
    "df.isnull().sum().sum()"
   ]
  },
  {
   "cell_type": "code",
   "execution_count": 18,
   "id": "8cb53791",
   "metadata": {
    "papermill": {
     "duration": 0.022353,
     "end_time": "2024-01-13T13:02:29.463479",
     "exception": false,
     "start_time": "2024-01-13T13:02:29.441126",
     "status": "completed"
    },
    "tags": []
   },
   "outputs": [
    {
     "data": {
      "text/plain": [
       "False"
      ]
     },
     "execution_count": 18,
     "metadata": {},
     "output_type": "execute_result"
    }
   ],
   "source": [
    "df.isnull().values.any()"
   ]
  },
  {
   "cell_type": "markdown",
   "id": "2d9a8f4d",
   "metadata": {
    "papermill": {
     "duration": 0.009768,
     "end_time": "2024-01-13T13:02:29.483232",
     "exception": false,
     "start_time": "2024-01-13T13:02:29.473464",
     "status": "completed"
    },
    "tags": []
   },
   "source": [
    "## Data Visualization"
   ]
  },
  {
   "cell_type": "code",
   "execution_count": 19,
   "id": "ff89ecc2",
   "metadata": {
    "papermill": {
     "duration": 0.431174,
     "end_time": "2024-01-13T13:02:29.924470",
     "exception": false,
     "start_time": "2024-01-13T13:02:29.493296",
     "status": "completed"
    },
    "tags": []
   },
   "outputs": [
    {
     "data": {
      "image/png": "[encoded data removed]",
      "text/plain": [
       "<Figure size 640x480 with 1 Axes>"
      ]
     },
     "metadata": {},
     "output_type": "display_data"
    }
   ],
   "source": [
    "df[\"BEDS\"].value_counts().plot.barh();"
   ]
  },
  {
   "cell_type": "code",
   "execution_count": 20,
   "id": "7313300e",
   "metadata": {
    "papermill": {
     "duration": 0.317274,
     "end_time": "2024-01-13T13:02:30.252395",
     "exception": false,
     "start_time": "2024-01-13T13:02:29.935121",
     "status": "completed"
    },
    "tags": []
   },
   "outputs": [
    {
     "data": {
      "image/png": "[encoded data removed]",
      "text/plain": [
       "<Figure size 640x480 with 1 Axes>"
      ]
     },
     "metadata": {},
     "output_type": "display_data"
    }
   ],
   "source": [
    "df[\"TYPE\"].value_counts().plot.barh();"
   ]
  },
  {
   "cell_type": "code",
   "execution_count": 21,
   "id": "73ea3515",
   "metadata": {
    "papermill": {
     "duration": 0.79417,
     "end_time": "2024-01-13T13:02:31.057589",
     "exception": false,
     "start_time": "2024-01-13T13:02:30.263419",
     "status": "completed"
    },
    "tags": []
   },
   "outputs": [
    {
     "data": {
      "image/png": "[encoded data removed]",
      "text/plain": [
       "<Figure size 640x480 with 1 Axes>"
      ]
     },
     "metadata": {},
     "output_type": "display_data"
    }
   ],
   "source": [
    "sns.barplot(x = \"TYPE\", y = df.TYPE.index, data= df);"
   ]
  },
  {
   "cell_type": "code",
   "execution_count": 22,
   "id": "0ec42f53",
   "metadata": {
    "papermill": {
     "duration": 0.918615,
     "end_time": "2024-01-13T13:02:31.988398",
     "exception": false,
     "start_time": "2024-01-13T13:02:31.069783",
     "status": "completed"
    },
    "tags": []
   },
   "outputs": [
    {
     "data": {
      "image/png": "[encoded data removed]",
      "text/plain": [
       "<Figure size 640x480 with 1 Axes>"
      ]
     },
     "metadata": {},
     "output_type": "display_data"
    }
   ],
   "source": [
    "sns.barplot(x = \"BEDS\", y = df.BEDS.index, data= df);"
   ]
  },
  {
   "cell_type": "code",
   "execution_count": 23,
   "id": "8fe82b38",
   "metadata": {
    "papermill": {
     "duration": 0.413907,
     "end_time": "2024-01-13T13:02:32.417396",
     "exception": false,
     "start_time": "2024-01-13T13:02:32.003489",
     "status": "completed"
    },
    "tags": []
   },
   "outputs": [
    {
     "data": {
      "text/plain": [
       "<Axes: xlabel='TYPE', ylabel='BEDS'>"
      ]
     },
     "execution_count": 23,
     "metadata": {},
     "output_type": "execute_result"
    },
    {
     "data": {
      "image/png": "[encoded data removed]",
      "text/plain": [
       "<Figure size 640x480 with 1 Axes>"
      ]
     },
     "metadata": {},
     "output_type": "display_data"
    }
   ],
   "source": [
    "sns.boxplot(x=\"TYPE\", y=\"BEDS\", data=df)"
   ]
  },
  {
   "cell_type": "code",
   "execution_count": 24,
   "id": "574a905c",
   "metadata": {
    "papermill": {
     "duration": 0.32376,
     "end_time": "2024-01-13T13:02:32.753636",
     "exception": false,
     "start_time": "2024-01-13T13:02:32.429876",
     "status": "completed"
    },
    "tags": []
   },
   "outputs": [
    {
     "data": {
      "image/png": "[encoded data removed]",
      "text/plain": [
       "<Figure size 640x480 with 1 Axes>"
      ]
     },
     "metadata": {},
     "output_type": "display_data"
    }
   ],
   "source": [
    "sns.distplot(df.BEDS, kde = False);"
   ]
  },
  {
   "cell_type": "code",
   "execution_count": 25,
   "id": "bde0a3dd",
   "metadata": {
    "papermill": {
     "duration": 0.400821,
     "end_time": "2024-01-13T13:02:33.167424",
     "exception": false,
     "start_time": "2024-01-13T13:02:32.766603",
     "status": "completed"
    },
    "tags": []
   },
   "outputs": [
    {
     "data": {
      "image/png": "[encoded data removed]",
      "text/plain": [
       "<Figure size 640x480 with 1 Axes>"
      ]
     },
     "metadata": {},
     "output_type": "display_data"
    }
   ],
   "source": [
    "sns.distplot(df.BEDS);"
   ]
  },
  {
   "cell_type": "code",
   "execution_count": 26,
   "id": "fea5efc6",
   "metadata": {
    "papermill": {
     "duration": 0.310251,
     "end_time": "2024-01-13T13:02:33.493450",
     "exception": false,
     "start_time": "2024-01-13T13:02:33.183199",
     "status": "completed"
    },
    "tags": []
   },
   "outputs": [
    {
     "data": {
      "image/png": "[encoded data removed]",
      "text/plain": [
       "<Figure size 640x480 with 1 Axes>"
      ]
     },
     "metadata": {},
     "output_type": "display_data"
    }
   ],
   "source": [
    "sns.distplot(df.BEDS, hist = False);"
   ]
  },
  {
   "cell_type": "code",
   "execution_count": 27,
   "id": "a152df91",
   "metadata": {
    "papermill": {
     "duration": 0.304129,
     "end_time": "2024-01-13T13:02:33.812139",
     "exception": false,
     "start_time": "2024-01-13T13:02:33.508010",
     "status": "completed"
    },
    "tags": []
   },
   "outputs": [
    {
     "data": {
      "image/png": "[encoded data removed]",
      "text/plain": [
       "<Figure size 640x480 with 1 Axes>"
      ]
     },
     "metadata": {},
     "output_type": "display_data"
    }
   ],
   "source": [
    "sns.kdeplot(df.BEDS, shade = True);"
   ]
  },
  {
   "cell_type": "code",
   "execution_count": 28,
   "id": "5411e3b6",
   "metadata": {
    "papermill": {
     "duration": 0.205729,
     "end_time": "2024-01-13T13:02:34.031775",
     "exception": false,
     "start_time": "2024-01-13T13:02:33.826046",
     "status": "completed"
    },
    "tags": []
   },
   "outputs": [
    {
     "data": {
      "image/png": "[encoded data removed]",
      "text/plain": [
       "<Figure size 640x480 with 1 Axes>"
      ]
     },
     "metadata": {},
     "output_type": "display_data"
    }
   ],
   "source": [
    "sns.boxplot(x = df[\"BEDS\"]);"
   ]
  },
  {
   "cell_type": "code",
   "execution_count": 29,
   "id": "b4efc82a",
   "metadata": {
    "papermill": {
     "duration": 1.296545,
     "end_time": "2024-01-13T13:02:35.342369",
     "exception": false,
     "start_time": "2024-01-13T13:02:34.045824",
     "status": "completed"
    },
    "tags": []
   },
   "outputs": [
    {
     "data": {
      "image/png": "[encoded data removed]",
      "text/plain": [
       "<Figure size 1000x1000 with 6 Axes>"
      ]
     },
     "metadata": {},
     "output_type": "display_data"
    }
   ],
   "source": [
    "df.hist(figsize = (10,10));"
   ]
  },
  {
   "cell_type": "markdown",
   "id": "dce6e8c8",
   "metadata": {
    "papermill": {
     "duration": 0.014616,
     "end_time": "2024-01-13T13:02:35.372206",
     "exception": false,
     "start_time": "2024-01-13T13:02:35.357590",
     "status": "completed"
    },
    "tags": []
   },
   "source": [
    "## Data Preprocessing"
   ]
  },
  {
   "cell_type": "code",
   "execution_count": 30,
   "id": "ef1fa667",
   "metadata": {
    "papermill": {
     "duration": 0.037817,
     "end_time": "2024-01-13T13:02:35.424720",
     "exception": false,
     "start_time": "2024-01-13T13:02:35.386903",
     "status": "completed"
    },
    "tags": []
   },
   "outputs": [
    {
     "data": {
      "text/html": [
       "<div>\n",
       "<style scoped>\n",
       "    .dataframe tbody tr th:only-of-type {\n",
       "        vertical-align: middle;\n",
       "    }\n",
       "\n",
       "    .dataframe tbody tr th {\n",
       "        vertical-align: top;\n",
       "    }\n",
       "\n",
       "    .dataframe thead th {\n",
       "        text-align: right;\n",
       "    }\n",
       "</style>\n",
       "<table border=\"1\" class=\"dataframe\">\n",
       "  <thead>\n",
       "    <tr style=\"text-align: right;\">\n",
       "      <th></th>\n",
       "      <th>BROKERTITLE</th>\n",
       "      <th>TYPE</th>\n",
       "      <th>PRICE</th>\n",
       "      <th>BEDS</th>\n",
       "      <th>BATH</th>\n",
       "      <th>PROPERTYSQFT</th>\n",
       "      <th>ADDRESS</th>\n",
       "      <th>STATE</th>\n",
       "      <th>MAIN_ADDRESS</th>\n",
       "      <th>ADMINISTRATIVE_AREA_LEVEL_2</th>\n",
       "      <th>LOCALITY</th>\n",
       "      <th>SUBLOCALITY</th>\n",
       "      <th>STREET_NAME</th>\n",
       "      <th>LONG_NAME</th>\n",
       "      <th>FORMATTED_ADDRESS</th>\n",
       "      <th>LATITUDE</th>\n",
       "      <th>LONGITUDE</th>\n",
       "    </tr>\n",
       "  </thead>\n",
       "  <tbody>\n",
       "    <tr>\n",
       "      <th>0</th>\n",
       "      <td>Brokered by Douglas Elliman  -111 Fifth Ave</td>\n",
       "      <td>Condo for sale</td>\n",
       "      <td>315000</td>\n",
       "      <td>2</td>\n",
       "      <td>2.000000</td>\n",
       "      <td>1400.0</td>\n",
       "      <td>2 E 55th St Unit 803</td>\n",
       "      <td>New York, NY 10022</td>\n",
       "      <td>2 E 55th St Unit 803New York, NY 10022</td>\n",
       "      <td>New York County</td>\n",
       "      <td>New York</td>\n",
       "      <td>Manhattan</td>\n",
       "      <td>East 55th Street</td>\n",
       "      <td>Regis Residence</td>\n",
       "      <td>Regis Residence, 2 E 55th St #803, New York, N...</td>\n",
       "      <td>40.761255</td>\n",
       "      <td>-73.974483</td>\n",
       "    </tr>\n",
       "    <tr>\n",
       "      <th>1</th>\n",
       "      <td>Brokered by Serhant</td>\n",
       "      <td>Condo for sale</td>\n",
       "      <td>195000000</td>\n",
       "      <td>7</td>\n",
       "      <td>10.000000</td>\n",
       "      <td>17545.0</td>\n",
       "      <td>Central Park Tower Penthouse-217 W 57th New Yo...</td>\n",
       "      <td>New York, NY 10019</td>\n",
       "      <td>Central Park Tower Penthouse-217 W 57th New Yo...</td>\n",
       "      <td>United States</td>\n",
       "      <td>New York</td>\n",
       "      <td>New York County</td>\n",
       "      <td>New York</td>\n",
       "      <td>West 57th Street</td>\n",
       "      <td>217 W 57th St, New York, NY 10019, USA</td>\n",
       "      <td>40.766393</td>\n",
       "      <td>-73.980991</td>\n",
       "    </tr>\n",
       "    <tr>\n",
       "      <th>2</th>\n",
       "      <td>Brokered by Sowae Corp</td>\n",
       "      <td>House for sale</td>\n",
       "      <td>260000</td>\n",
       "      <td>4</td>\n",
       "      <td>2.000000</td>\n",
       "      <td>2015.0</td>\n",
       "      <td>620 Sinclair Ave</td>\n",
       "      <td>Staten Island, NY 10312</td>\n",
       "      <td>620 Sinclair AveStaten Island, NY 10312</td>\n",
       "      <td>United States</td>\n",
       "      <td>New York</td>\n",
       "      <td>Richmond County</td>\n",
       "      <td>Staten Island</td>\n",
       "      <td>Sinclair Avenue</td>\n",
       "      <td>620 Sinclair Ave, Staten Island, NY 10312, USA</td>\n",
       "      <td>40.541805</td>\n",
       "      <td>-74.196109</td>\n",
       "    </tr>\n",
       "    <tr>\n",
       "      <th>3</th>\n",
       "      <td>Brokered by COMPASS</td>\n",
       "      <td>Condo for sale</td>\n",
       "      <td>69000</td>\n",
       "      <td>3</td>\n",
       "      <td>1.000000</td>\n",
       "      <td>445.0</td>\n",
       "      <td>2 E 55th St Unit 908W33</td>\n",
       "      <td>Manhattan, NY 10022</td>\n",
       "      <td>2 E 55th St Unit 908W33Manhattan, NY 10022</td>\n",
       "      <td>United States</td>\n",
       "      <td>New York</td>\n",
       "      <td>New York County</td>\n",
       "      <td>New York</td>\n",
       "      <td>East 55th Street</td>\n",
       "      <td>2 E 55th St, New York, NY 10022, USA</td>\n",
       "      <td>40.761398</td>\n",
       "      <td>-73.974613</td>\n",
       "    </tr>\n",
       "    <tr>\n",
       "      <th>4</th>\n",
       "      <td>Brokered by Sotheby's International Realty - E...</td>\n",
       "      <td>Townhouse for sale</td>\n",
       "      <td>55000000</td>\n",
       "      <td>7</td>\n",
       "      <td>2.373861</td>\n",
       "      <td>14175.0</td>\n",
       "      <td>5 E 64th St</td>\n",
       "      <td>New York, NY 10065</td>\n",
       "      <td>5 E 64th StNew York, NY 10065</td>\n",
       "      <td>United States</td>\n",
       "      <td>New York</td>\n",
       "      <td>New York County</td>\n",
       "      <td>New York</td>\n",
       "      <td>East 64th Street</td>\n",
       "      <td>5 E 64th St, New York, NY 10065, USA</td>\n",
       "      <td>40.767224</td>\n",
       "      <td>-73.969856</td>\n",
       "    </tr>\n",
       "  </tbody>\n",
       "</table>\n",
       "</div>"
      ],
      "text/plain": [
       "                                         BROKERTITLE                TYPE  \\\n",
       "0        Brokered by Douglas Elliman  -111 Fifth Ave      Condo for sale   \n",
       "1                                Brokered by Serhant      Condo for sale   \n",
       "2                             Brokered by Sowae Corp      House for sale   \n",
       "3                                Brokered by COMPASS      Condo for sale   \n",
       "4  Brokered by Sotheby's International Realty - E...  Townhouse for sale   \n",
       "\n",
       "       PRICE  BEDS       BATH  PROPERTYSQFT  \\\n",
       "0     315000     2   2.000000        1400.0   \n",
       "1  195000000     7  10.000000       17545.0   \n",
       "2     260000     4   2.000000        2015.0   \n",
       "3      69000     3   1.000000         445.0   \n",
       "4   55000000     7   2.373861       14175.0   \n",
       "\n",
       "                                             ADDRESS                    STATE  \\\n",
       "0                               2 E 55th St Unit 803       New York, NY 10022   \n",
       "1  Central Park Tower Penthouse-217 W 57th New Yo...       New York, NY 10019   \n",
       "2                                   620 Sinclair Ave  Staten Island, NY 10312   \n",
       "3                            2 E 55th St Unit 908W33      Manhattan, NY 10022   \n",
       "4                                        5 E 64th St       New York, NY 10065   \n",
       "\n",
       "                                        MAIN_ADDRESS  \\\n",
       "0             2 E 55th St Unit 803New York, NY 10022   \n",
       "1  Central Park Tower Penthouse-217 W 57th New Yo...   \n",
       "2            620 Sinclair AveStaten Island, NY 10312   \n",
       "3         2 E 55th St Unit 908W33Manhattan, NY 10022   \n",
       "4                      5 E 64th StNew York, NY 10065   \n",
       "\n",
       "  ADMINISTRATIVE_AREA_LEVEL_2  LOCALITY      SUBLOCALITY       STREET_NAME  \\\n",
       "0             New York County  New York        Manhattan  East 55th Street   \n",
       "1               United States  New York  New York County          New York   \n",
       "2               United States  New York  Richmond County     Staten Island   \n",
       "3               United States  New York  New York County          New York   \n",
       "4               United States  New York  New York County          New York   \n",
       "\n",
       "          LONG_NAME                                  FORMATTED_ADDRESS  \\\n",
       "0   Regis Residence  Regis Residence, 2 E 55th St #803, New York, N...   \n",
       "1  West 57th Street             217 W 57th St, New York, NY 10019, USA   \n",
       "2   Sinclair Avenue     620 Sinclair Ave, Staten Island, NY 10312, USA   \n",
       "3  East 55th Street               2 E 55th St, New York, NY 10022, USA   \n",
       "4  East 64th Street               5 E 64th St, New York, NY 10065, USA   \n",
       "\n",
       "    LATITUDE  LONGITUDE  \n",
       "0  40.761255 -73.974483  \n",
       "1  40.766393 -73.980991  \n",
       "2  40.541805 -74.196109  \n",
       "3  40.761398 -73.974613  \n",
       "4  40.767224 -73.969856  "
      ]
     },
     "execution_count": 30,
     "metadata": {},
     "output_type": "execute_result"
    }
   ],
   "source": [
    "df.head()"
   ]
  },
  {
   "cell_type": "code",
   "execution_count": 31,
   "id": "d1cdae3e",
   "metadata": {
    "papermill": {
     "duration": 0.024907,
     "end_time": "2024-01-13T13:02:35.464955",
     "exception": false,
     "start_time": "2024-01-13T13:02:35.440048",
     "status": "completed"
    },
    "tags": []
   },
   "outputs": [
    {
     "data": {
      "text/plain": [
       "Index(['BROKERTITLE', 'TYPE', 'PRICE', 'BEDS', 'BATH', 'PROPERTYSQFT',\n",
       "       'ADDRESS', 'STATE', 'MAIN_ADDRESS', 'ADMINISTRATIVE_AREA_LEVEL_2',\n",
       "       'LOCALITY', 'SUBLOCALITY', 'STREET_NAME', 'LONG_NAME',\n",
       "       'FORMATTED_ADDRESS', 'LATITUDE', 'LONGITUDE'],\n",
       "      dtype='object')"
      ]
     },
     "execution_count": 31,
     "metadata": {},
     "output_type": "execute_result"
    }
   ],
   "source": [
    "df.columns"
   ]
  },
  {
   "cell_type": "code",
   "execution_count": 32,
   "id": "63aafafa",
   "metadata": {
    "papermill": {
     "duration": 0.023965,
     "end_time": "2024-01-13T13:02:35.504117",
     "exception": false,
     "start_time": "2024-01-13T13:02:35.480152",
     "status": "completed"
    },
    "tags": []
   },
   "outputs": [],
   "source": [
    "df_num = df.select_dtypes(include = [\"float64\", \"int64\"])"
   ]
  },
  {
   "cell_type": "code",
   "execution_count": 33,
   "id": "ffa54616",
   "metadata": {
    "papermill": {
     "duration": 0.029252,
     "end_time": "2024-01-13T13:02:35.548549",
     "exception": false,
     "start_time": "2024-01-13T13:02:35.519297",
     "status": "completed"
    },
    "tags": []
   },
   "outputs": [
    {
     "data": {
      "text/html": [
       "<div>\n",
       "<style scoped>\n",
       "    .dataframe tbody tr th:only-of-type {\n",
       "        vertical-align: middle;\n",
       "    }\n",
       "\n",
       "    .dataframe tbody tr th {\n",
       "        vertical-align: top;\n",
       "    }\n",
       "\n",
       "    .dataframe thead th {\n",
       "        text-align: right;\n",
       "    }\n",
       "</style>\n",
       "<table border=\"1\" class=\"dataframe\">\n",
       "  <thead>\n",
       "    <tr style=\"text-align: right;\">\n",
       "      <th></th>\n",
       "      <th>PRICE</th>\n",
       "      <th>BEDS</th>\n",
       "      <th>BATH</th>\n",
       "      <th>PROPERTYSQFT</th>\n",
       "      <th>LATITUDE</th>\n",
       "      <th>LONGITUDE</th>\n",
       "    </tr>\n",
       "  </thead>\n",
       "  <tbody>\n",
       "    <tr>\n",
       "      <th>0</th>\n",
       "      <td>315000</td>\n",
       "      <td>2</td>\n",
       "      <td>2.000000</td>\n",
       "      <td>1400.0</td>\n",
       "      <td>40.761255</td>\n",
       "      <td>-73.974483</td>\n",
       "    </tr>\n",
       "    <tr>\n",
       "      <th>1</th>\n",
       "      <td>195000000</td>\n",
       "      <td>7</td>\n",
       "      <td>10.000000</td>\n",
       "      <td>17545.0</td>\n",
       "      <td>40.766393</td>\n",
       "      <td>-73.980991</td>\n",
       "    </tr>\n",
       "    <tr>\n",
       "      <th>2</th>\n",
       "      <td>260000</td>\n",
       "      <td>4</td>\n",
       "      <td>2.000000</td>\n",
       "      <td>2015.0</td>\n",
       "      <td>40.541805</td>\n",
       "      <td>-74.196109</td>\n",
       "    </tr>\n",
       "    <tr>\n",
       "      <th>3</th>\n",
       "      <td>69000</td>\n",
       "      <td>3</td>\n",
       "      <td>1.000000</td>\n",
       "      <td>445.0</td>\n",
       "      <td>40.761398</td>\n",
       "      <td>-73.974613</td>\n",
       "    </tr>\n",
       "    <tr>\n",
       "      <th>4</th>\n",
       "      <td>55000000</td>\n",
       "      <td>7</td>\n",
       "      <td>2.373861</td>\n",
       "      <td>14175.0</td>\n",
       "      <td>40.767224</td>\n",
       "      <td>-73.969856</td>\n",
       "    </tr>\n",
       "  </tbody>\n",
       "</table>\n",
       "</div>"
      ],
      "text/plain": [
       "       PRICE  BEDS       BATH  PROPERTYSQFT   LATITUDE  LONGITUDE\n",
       "0     315000     2   2.000000        1400.0  40.761255 -73.974483\n",
       "1  195000000     7  10.000000       17545.0  40.766393 -73.980991\n",
       "2     260000     4   2.000000        2015.0  40.541805 -74.196109\n",
       "3      69000     3   1.000000         445.0  40.761398 -73.974613\n",
       "4   55000000     7   2.373861       14175.0  40.767224 -73.969856"
      ]
     },
     "execution_count": 33,
     "metadata": {},
     "output_type": "execute_result"
    }
   ],
   "source": [
    "df_num.head()"
   ]
  },
  {
   "cell_type": "code",
   "execution_count": 34,
   "id": "244070ab",
   "metadata": {
    "papermill": {
     "duration": 0.044895,
     "end_time": "2024-01-13T13:02:35.609511",
     "exception": false,
     "start_time": "2024-01-13T13:02:35.564616",
     "status": "completed"
    },
    "tags": []
   },
   "outputs": [
    {
     "data": {
      "text/html": [
       "<div>\n",
       "<style scoped>\n",
       "    .dataframe tbody tr th:only-of-type {\n",
       "        vertical-align: middle;\n",
       "    }\n",
       "\n",
       "    .dataframe tbody tr th {\n",
       "        vertical-align: top;\n",
       "    }\n",
       "\n",
       "    .dataframe thead th {\n",
       "        text-align: right;\n",
       "    }\n",
       "</style>\n",
       "<table border=\"1\" class=\"dataframe\">\n",
       "  <thead>\n",
       "    <tr style=\"text-align: right;\">\n",
       "      <th></th>\n",
       "      <th>count</th>\n",
       "      <th>mean</th>\n",
       "      <th>std</th>\n",
       "      <th>min</th>\n",
       "      <th>25%</th>\n",
       "      <th>50%</th>\n",
       "      <th>75%</th>\n",
       "      <th>max</th>\n",
       "    </tr>\n",
       "  </thead>\n",
       "  <tbody>\n",
       "    <tr>\n",
       "      <th>PRICE</th>\n",
       "      <td>4801.0</td>\n",
       "      <td>2.356940e+06</td>\n",
       "      <td>3.135525e+07</td>\n",
       "      <td>2494.000000</td>\n",
       "      <td>499000.000000</td>\n",
       "      <td>825000.000000</td>\n",
       "      <td>1.495000e+06</td>\n",
       "      <td>2.147484e+09</td>\n",
       "    </tr>\n",
       "    <tr>\n",
       "      <th>BEDS</th>\n",
       "      <td>4801.0</td>\n",
       "      <td>3.356801e+00</td>\n",
       "      <td>2.602315e+00</td>\n",
       "      <td>1.000000</td>\n",
       "      <td>2.000000</td>\n",
       "      <td>3.000000</td>\n",
       "      <td>4.000000e+00</td>\n",
       "      <td>5.000000e+01</td>\n",
       "    </tr>\n",
       "    <tr>\n",
       "      <th>BATH</th>\n",
       "      <td>4801.0</td>\n",
       "      <td>2.373861e+00</td>\n",
       "      <td>1.946962e+00</td>\n",
       "      <td>0.000000</td>\n",
       "      <td>1.000000</td>\n",
       "      <td>2.000000</td>\n",
       "      <td>3.000000e+00</td>\n",
       "      <td>5.000000e+01</td>\n",
       "    </tr>\n",
       "    <tr>\n",
       "      <th>PROPERTYSQFT</th>\n",
       "      <td>4801.0</td>\n",
       "      <td>2.184208e+03</td>\n",
       "      <td>2.377141e+03</td>\n",
       "      <td>230.000000</td>\n",
       "      <td>1200.000000</td>\n",
       "      <td>2184.207862</td>\n",
       "      <td>2.184208e+03</td>\n",
       "      <td>6.553500e+04</td>\n",
       "    </tr>\n",
       "    <tr>\n",
       "      <th>LATITUDE</th>\n",
       "      <td>4801.0</td>\n",
       "      <td>4.071423e+01</td>\n",
       "      <td>8.767557e-02</td>\n",
       "      <td>40.499546</td>\n",
       "      <td>40.639375</td>\n",
       "      <td>40.726749</td>\n",
       "      <td>4.077192e+01</td>\n",
       "      <td>4.091273e+01</td>\n",
       "    </tr>\n",
       "    <tr>\n",
       "      <th>LONGITUDE</th>\n",
       "      <td>4801.0</td>\n",
       "      <td>-7.394160e+01</td>\n",
       "      <td>1.010825e-01</td>\n",
       "      <td>-74.253033</td>\n",
       "      <td>-73.987143</td>\n",
       "      <td>-73.949189</td>\n",
       "      <td>-7.387064e+01</td>\n",
       "      <td>-7.370245e+01</td>\n",
       "    </tr>\n",
       "  </tbody>\n",
       "</table>\n",
       "</div>"
      ],
      "text/plain": [
       "               count          mean           std          min            25%  \\\n",
       "PRICE         4801.0  2.356940e+06  3.135525e+07  2494.000000  499000.000000   \n",
       "BEDS          4801.0  3.356801e+00  2.602315e+00     1.000000       2.000000   \n",
       "BATH          4801.0  2.373861e+00  1.946962e+00     0.000000       1.000000   \n",
       "PROPERTYSQFT  4801.0  2.184208e+03  2.377141e+03   230.000000    1200.000000   \n",
       "LATITUDE      4801.0  4.071423e+01  8.767557e-02    40.499546      40.639375   \n",
       "LONGITUDE     4801.0 -7.394160e+01  1.010825e-01   -74.253033     -73.987143   \n",
       "\n",
       "                        50%           75%           max  \n",
       "PRICE         825000.000000  1.495000e+06  2.147484e+09  \n",
       "BEDS               3.000000  4.000000e+00  5.000000e+01  \n",
       "BATH               2.000000  3.000000e+00  5.000000e+01  \n",
       "PROPERTYSQFT    2184.207862  2.184208e+03  6.553500e+04  \n",
       "LATITUDE          40.726749  4.077192e+01  4.091273e+01  \n",
       "LONGITUDE        -73.949189 -7.387064e+01 -7.370245e+01  "
      ]
     },
     "execution_count": 34,
     "metadata": {},
     "output_type": "execute_result"
    }
   ],
   "source": [
    "df_num.describe().T"
   ]
  },
  {
   "cell_type": "code",
   "execution_count": 35,
   "id": "687de644",
   "metadata": {
    "papermill": {
     "duration": 0.027523,
     "end_time": "2024-01-13T13:02:35.652830",
     "exception": false,
     "start_time": "2024-01-13T13:02:35.625307",
     "status": "completed"
    },
    "tags": []
   },
   "outputs": [
    {
     "data": {
      "text/plain": [
       "count    4.801000e+03\n",
       "mean     2.356940e+06\n",
       "std      3.135525e+07\n",
       "min      2.494000e+03\n",
       "25%      4.990000e+05\n",
       "50%      8.250000e+05\n",
       "75%      1.495000e+06\n",
       "max      2.147484e+09\n",
       "Name: PRICE, dtype: float64"
      ]
     },
     "execution_count": 35,
     "metadata": {},
     "output_type": "execute_result"
    }
   ],
   "source": [
    "df_num[\"PRICE\"].describe()"
   ]
  },
  {
   "cell_type": "code",
   "execution_count": 36,
   "id": "cbee0867",
   "metadata": {
    "papermill": {
     "duration": 0.027377,
     "end_time": "2024-01-13T13:02:35.695916",
     "exception": false,
     "start_time": "2024-01-13T13:02:35.668539",
     "status": "completed"
    },
    "tags": []
   },
   "outputs": [
    {
     "data": {
      "text/plain": [
       "count    4801.000000\n",
       "mean      -73.941601\n",
       "std         0.101082\n",
       "min       -74.253033\n",
       "25%       -73.987143\n",
       "50%       -73.949189\n",
       "75%       -73.870638\n",
       "max       -73.702450\n",
       "Name: LONGITUDE, dtype: float64"
      ]
     },
     "execution_count": 36,
     "metadata": {},
     "output_type": "execute_result"
    }
   ],
   "source": [
    "df_num[\"LONGITUDE\"].describe()"
   ]
  },
  {
   "cell_type": "code",
   "execution_count": 37,
   "id": "30356c50",
   "metadata": {
    "papermill": {
     "duration": 0.026877,
     "end_time": "2024-01-13T13:02:35.738538",
     "exception": false,
     "start_time": "2024-01-13T13:02:35.711661",
     "status": "completed"
    },
    "tags": []
   },
   "outputs": [
    {
     "name": "stdout",
     "output_type": "stream",
     "text": [
      "Mean: 2356940.17100604\n",
      "Count: 4801\n",
      "Max: 2147483647\n",
      "Min: 2494\n",
      "Meadian: 825000.0\n",
      "Standart: 31355246.260352015\n"
     ]
    }
   ],
   "source": [
    "print(\"Mean: \" + str(df_num[\"PRICE\"].mean()))\n",
    "print(\"Count: \" + str(df_num[\"PRICE\"].count())) \n",
    "print(\"Max: \" + str(df_num[\"PRICE\"].max()))\n",
    "print(\"Min: \" + str(df_num[\"PRICE\"].min()))\n",
    "print(\"Meadian: \" + str(df_num[\"PRICE\"].median()))\n",
    "print(\"Standart: \" + str(df_num[\"PRICE\"].std()))"
   ]
  },
  {
   "cell_type": "code",
   "execution_count": 38,
   "id": "ca39cc5d",
   "metadata": {
    "papermill": {
     "duration": 0.026884,
     "end_time": "2024-01-13T13:02:35.781478",
     "exception": false,
     "start_time": "2024-01-13T13:02:35.754594",
     "status": "completed"
    },
    "tags": []
   },
   "outputs": [
    {
     "data": {
      "text/plain": [
       "PRICE\n",
       "699000     53\n",
       "799000     48\n",
       "599000     47\n",
       "499000     42\n",
       "1250000    42\n",
       "           ..\n",
       "2098000     1\n",
       "848724      1\n",
       "1153000     1\n",
       "2999990     1\n",
       "598125      1\n",
       "Name: count, Length: 1274, dtype: int64"
      ]
     },
     "execution_count": 38,
     "metadata": {},
     "output_type": "execute_result"
    }
   ],
   "source": [
    "df[\"PRICE\"].value_counts()"
   ]
  },
  {
   "cell_type": "code",
   "execution_count": 39,
   "id": "390bdbf6",
   "metadata": {
    "papermill": {
     "duration": 0.031273,
     "end_time": "2024-01-13T13:02:35.828736",
     "exception": false,
     "start_time": "2024-01-13T13:02:35.797463",
     "status": "completed"
    },
    "tags": []
   },
   "outputs": [
    {
     "data": {
      "text/html": [
       "<div>\n",
       "<style scoped>\n",
       "    .dataframe tbody tr th:only-of-type {\n",
       "        vertical-align: middle;\n",
       "    }\n",
       "\n",
       "    .dataframe tbody tr th {\n",
       "        vertical-align: top;\n",
       "    }\n",
       "\n",
       "    .dataframe thead th {\n",
       "        text-align: right;\n",
       "    }\n",
       "</style>\n",
       "<table border=\"1\" class=\"dataframe\">\n",
       "  <thead>\n",
       "    <tr style=\"text-align: right;\">\n",
       "      <th></th>\n",
       "      <th>PRICE</th>\n",
       "      <th>BEDS</th>\n",
       "      <th>BATH</th>\n",
       "      <th>PROPERTYSQFT</th>\n",
       "      <th>LATITUDE</th>\n",
       "      <th>LONGITUDE</th>\n",
       "    </tr>\n",
       "  </thead>\n",
       "  <tbody>\n",
       "    <tr>\n",
       "      <th>0</th>\n",
       "      <td>315000</td>\n",
       "      <td>2</td>\n",
       "      <td>2.000000</td>\n",
       "      <td>1400.0</td>\n",
       "      <td>40.761255</td>\n",
       "      <td>-73.974483</td>\n",
       "    </tr>\n",
       "    <tr>\n",
       "      <th>1</th>\n",
       "      <td>195000000</td>\n",
       "      <td>7</td>\n",
       "      <td>10.000000</td>\n",
       "      <td>17545.0</td>\n",
       "      <td>40.766393</td>\n",
       "      <td>-73.980991</td>\n",
       "    </tr>\n",
       "    <tr>\n",
       "      <th>2</th>\n",
       "      <td>260000</td>\n",
       "      <td>4</td>\n",
       "      <td>2.000000</td>\n",
       "      <td>2015.0</td>\n",
       "      <td>40.541805</td>\n",
       "      <td>-74.196109</td>\n",
       "    </tr>\n",
       "    <tr>\n",
       "      <th>3</th>\n",
       "      <td>69000</td>\n",
       "      <td>3</td>\n",
       "      <td>1.000000</td>\n",
       "      <td>445.0</td>\n",
       "      <td>40.761398</td>\n",
       "      <td>-73.974613</td>\n",
       "    </tr>\n",
       "    <tr>\n",
       "      <th>4</th>\n",
       "      <td>55000000</td>\n",
       "      <td>7</td>\n",
       "      <td>2.373861</td>\n",
       "      <td>14175.0</td>\n",
       "      <td>40.767224</td>\n",
       "      <td>-73.969856</td>\n",
       "    </tr>\n",
       "  </tbody>\n",
       "</table>\n",
       "</div>"
      ],
      "text/plain": [
       "       PRICE  BEDS       BATH  PROPERTYSQFT   LATITUDE  LONGITUDE\n",
       "0     315000     2   2.000000        1400.0  40.761255 -73.974483\n",
       "1  195000000     7  10.000000       17545.0  40.766393 -73.980991\n",
       "2     260000     4   2.000000        2015.0  40.541805 -74.196109\n",
       "3      69000     3   1.000000         445.0  40.761398 -73.974613\n",
       "4   55000000     7   2.373861       14175.0  40.767224 -73.969856"
      ]
     },
     "execution_count": 39,
     "metadata": {},
     "output_type": "execute_result"
    }
   ],
   "source": [
    "df_num.head()"
   ]
  },
  {
   "cell_type": "code",
   "execution_count": 40,
   "id": "779f6c3e",
   "metadata": {
    "papermill": {
     "duration": 0.038925,
     "end_time": "2024-01-13T13:02:35.883869",
     "exception": false,
     "start_time": "2024-01-13T13:02:35.844944",
     "status": "completed"
    },
    "tags": []
   },
   "outputs": [
    {
     "data": {
      "text/html": [
       "<div>\n",
       "<style scoped>\n",
       "    .dataframe tbody tr th:only-of-type {\n",
       "        vertical-align: middle;\n",
       "    }\n",
       "\n",
       "    .dataframe tbody tr th {\n",
       "        vertical-align: top;\n",
       "    }\n",
       "\n",
       "    .dataframe thead th {\n",
       "        text-align: right;\n",
       "    }\n",
       "</style>\n",
       "<table border=\"1\" class=\"dataframe\">\n",
       "  <thead>\n",
       "    <tr style=\"text-align: right;\">\n",
       "      <th></th>\n",
       "      <th>BROKERTITLE</th>\n",
       "      <th>TYPE</th>\n",
       "      <th>PRICE</th>\n",
       "      <th>BEDS</th>\n",
       "      <th>BATH</th>\n",
       "      <th>PROPERTYSQFT</th>\n",
       "      <th>ADDRESS</th>\n",
       "      <th>STATE</th>\n",
       "      <th>MAIN_ADDRESS</th>\n",
       "      <th>ADMINISTRATIVE_AREA_LEVEL_2</th>\n",
       "      <th>LOCALITY</th>\n",
       "      <th>SUBLOCALITY</th>\n",
       "      <th>STREET_NAME</th>\n",
       "      <th>LONG_NAME</th>\n",
       "      <th>FORMATTED_ADDRESS</th>\n",
       "      <th>LATITUDE</th>\n",
       "      <th>LONGITUDE</th>\n",
       "    </tr>\n",
       "  </thead>\n",
       "  <tbody>\n",
       "    <tr>\n",
       "      <th>0</th>\n",
       "      <td>Brokered by Douglas Elliman  -111 Fifth Ave</td>\n",
       "      <td>Condo for sale</td>\n",
       "      <td>315000</td>\n",
       "      <td>2</td>\n",
       "      <td>2.000000</td>\n",
       "      <td>1400.0</td>\n",
       "      <td>2 E 55th St Unit 803</td>\n",
       "      <td>New York, NY 10022</td>\n",
       "      <td>2 E 55th St Unit 803New York, NY 10022</td>\n",
       "      <td>New York County</td>\n",
       "      <td>New York</td>\n",
       "      <td>Manhattan</td>\n",
       "      <td>East 55th Street</td>\n",
       "      <td>Regis Residence</td>\n",
       "      <td>Regis Residence, 2 E 55th St #803, New York, N...</td>\n",
       "      <td>40.761255</td>\n",
       "      <td>-73.974483</td>\n",
       "    </tr>\n",
       "    <tr>\n",
       "      <th>1</th>\n",
       "      <td>Brokered by Serhant</td>\n",
       "      <td>Condo for sale</td>\n",
       "      <td>195000000</td>\n",
       "      <td>7</td>\n",
       "      <td>10.000000</td>\n",
       "      <td>17545.0</td>\n",
       "      <td>Central Park Tower Penthouse-217 W 57th New Yo...</td>\n",
       "      <td>New York, NY 10019</td>\n",
       "      <td>Central Park Tower Penthouse-217 W 57th New Yo...</td>\n",
       "      <td>United States</td>\n",
       "      <td>New York</td>\n",
       "      <td>New York County</td>\n",
       "      <td>New York</td>\n",
       "      <td>West 57th Street</td>\n",
       "      <td>217 W 57th St, New York, NY 10019, USA</td>\n",
       "      <td>40.766393</td>\n",
       "      <td>-73.980991</td>\n",
       "    </tr>\n",
       "    <tr>\n",
       "      <th>2</th>\n",
       "      <td>Brokered by Sowae Corp</td>\n",
       "      <td>House for sale</td>\n",
       "      <td>260000</td>\n",
       "      <td>4</td>\n",
       "      <td>2.000000</td>\n",
       "      <td>2015.0</td>\n",
       "      <td>620 Sinclair Ave</td>\n",
       "      <td>Staten Island, NY 10312</td>\n",
       "      <td>620 Sinclair AveStaten Island, NY 10312</td>\n",
       "      <td>United States</td>\n",
       "      <td>New York</td>\n",
       "      <td>Richmond County</td>\n",
       "      <td>Staten Island</td>\n",
       "      <td>Sinclair Avenue</td>\n",
       "      <td>620 Sinclair Ave, Staten Island, NY 10312, USA</td>\n",
       "      <td>40.541805</td>\n",
       "      <td>-74.196109</td>\n",
       "    </tr>\n",
       "    <tr>\n",
       "      <th>3</th>\n",
       "      <td>Brokered by COMPASS</td>\n",
       "      <td>Condo for sale</td>\n",
       "      <td>69000</td>\n",
       "      <td>3</td>\n",
       "      <td>1.000000</td>\n",
       "      <td>445.0</td>\n",
       "      <td>2 E 55th St Unit 908W33</td>\n",
       "      <td>Manhattan, NY 10022</td>\n",
       "      <td>2 E 55th St Unit 908W33Manhattan, NY 10022</td>\n",
       "      <td>United States</td>\n",
       "      <td>New York</td>\n",
       "      <td>New York County</td>\n",
       "      <td>New York</td>\n",
       "      <td>East 55th Street</td>\n",
       "      <td>2 E 55th St, New York, NY 10022, USA</td>\n",
       "      <td>40.761398</td>\n",
       "      <td>-73.974613</td>\n",
       "    </tr>\n",
       "    <tr>\n",
       "      <th>4</th>\n",
       "      <td>Brokered by Sotheby's International Realty - E...</td>\n",
       "      <td>Townhouse for sale</td>\n",
       "      <td>55000000</td>\n",
       "      <td>7</td>\n",
       "      <td>2.373861</td>\n",
       "      <td>14175.0</td>\n",
       "      <td>5 E 64th St</td>\n",
       "      <td>New York, NY 10065</td>\n",
       "      <td>5 E 64th StNew York, NY 10065</td>\n",
       "      <td>United States</td>\n",
       "      <td>New York</td>\n",
       "      <td>New York County</td>\n",
       "      <td>New York</td>\n",
       "      <td>East 64th Street</td>\n",
       "      <td>5 E 64th St, New York, NY 10065, USA</td>\n",
       "      <td>40.767224</td>\n",
       "      <td>-73.969856</td>\n",
       "    </tr>\n",
       "  </tbody>\n",
       "</table>\n",
       "</div>"
      ],
      "text/plain": [
       "                                         BROKERTITLE                TYPE  \\\n",
       "0        Brokered by Douglas Elliman  -111 Fifth Ave      Condo for sale   \n",
       "1                                Brokered by Serhant      Condo for sale   \n",
       "2                             Brokered by Sowae Corp      House for sale   \n",
       "3                                Brokered by COMPASS      Condo for sale   \n",
       "4  Brokered by Sotheby's International Realty - E...  Townhouse for sale   \n",
       "\n",
       "       PRICE  BEDS       BATH  PROPERTYSQFT  \\\n",
       "0     315000     2   2.000000        1400.0   \n",
       "1  195000000     7  10.000000       17545.0   \n",
       "2     260000     4   2.000000        2015.0   \n",
       "3      69000     3   1.000000         445.0   \n",
       "4   55000000     7   2.373861       14175.0   \n",
       "\n",
       "                                             ADDRESS                    STATE  \\\n",
       "0                               2 E 55th St Unit 803       New York, NY 10022   \n",
       "1  Central Park Tower Penthouse-217 W 57th New Yo...       New York, NY 10019   \n",
       "2                                   620 Sinclair Ave  Staten Island, NY 10312   \n",
       "3                            2 E 55th St Unit 908W33      Manhattan, NY 10022   \n",
       "4                                        5 E 64th St       New York, NY 10065   \n",
       "\n",
       "                                        MAIN_ADDRESS  \\\n",
       "0             2 E 55th St Unit 803New York, NY 10022   \n",
       "1  Central Park Tower Penthouse-217 W 57th New Yo...   \n",
       "2            620 Sinclair AveStaten Island, NY 10312   \n",
       "3         2 E 55th St Unit 908W33Manhattan, NY 10022   \n",
       "4                      5 E 64th StNew York, NY 10065   \n",
       "\n",
       "  ADMINISTRATIVE_AREA_LEVEL_2  LOCALITY      SUBLOCALITY       STREET_NAME  \\\n",
       "0             New York County  New York        Manhattan  East 55th Street   \n",
       "1               United States  New York  New York County          New York   \n",
       "2               United States  New York  Richmond County     Staten Island   \n",
       "3               United States  New York  New York County          New York   \n",
       "4               United States  New York  New York County          New York   \n",
       "\n",
       "          LONG_NAME                                  FORMATTED_ADDRESS  \\\n",
       "0   Regis Residence  Regis Residence, 2 E 55th St #803, New York, N...   \n",
       "1  West 57th Street             217 W 57th St, New York, NY 10019, USA   \n",
       "2   Sinclair Avenue     620 Sinclair Ave, Staten Island, NY 10312, USA   \n",
       "3  East 55th Street               2 E 55th St, New York, NY 10022, USA   \n",
       "4  East 64th Street               5 E 64th St, New York, NY 10065, USA   \n",
       "\n",
       "    LATITUDE  LONGITUDE  \n",
       "0  40.761255 -73.974483  \n",
       "1  40.766393 -73.980991  \n",
       "2  40.541805 -74.196109  \n",
       "3  40.761398 -73.974613  \n",
       "4  40.767224 -73.969856  "
      ]
     },
     "execution_count": 40,
     "metadata": {},
     "output_type": "execute_result"
    }
   ],
   "source": [
    "df.head()"
   ]
  },
  {
   "cell_type": "code",
   "execution_count": 41,
   "id": "bfa06ba5",
   "metadata": {
    "papermill": {
     "duration": 0.023802,
     "end_time": "2024-01-13T13:02:35.924169",
     "exception": false,
     "start_time": "2024-01-13T13:02:35.900367",
     "status": "completed"
    },
    "tags": []
   },
   "outputs": [],
   "source": [
    "categorical_list = [\"BROKERTITLE\", \"TYPE\", \"ADDRESS\", \"STATE\", \"MAIN_ADDRESS\", \"ADMINISTRATIVE_AREA_LEVEL_2\", \"LOCALITY\", \"SUBLOCALITY\", \"STREET_NAME\", \"LONG_NAME\", \"ADMINISTRATIVE_AREA_LEVEL_2\"]"
   ]
  },
  {
   "cell_type": "markdown",
   "id": "4411eb27",
   "metadata": {
    "papermill": {
     "duration": 0.016244,
     "end_time": "2024-01-13T13:02:35.957007",
     "exception": false,
     "start_time": "2024-01-13T13:02:35.940763",
     "status": "completed"
    },
    "tags": []
   },
   "source": [
    "df_categoric = df.loc[:, categorical_list]\n",
    "for i in categorical_list:\n",
    "    plt.figure()\n",
    "    sns.countplot(x = i, data = df_categoric, hue = \"TYPE\")\n",
    "    plt.title(i)"
   ]
  },
  {
   "cell_type": "markdown",
   "id": "8d38ad6a",
   "metadata": {
    "papermill": {
     "duration": 0.015929,
     "end_time": "2024-01-13T13:02:35.989246",
     "exception": false,
     "start_time": "2024-01-13T13:02:35.973317",
     "status": "completed"
    },
    "tags": []
   },
   "source": [
    "## Outlier"
   ]
  },
  {
   "cell_type": "code",
   "execution_count": 42,
   "id": "7a08bc37",
   "metadata": {
    "papermill": {
     "duration": 0.050556,
     "end_time": "2024-01-13T13:02:36.056142",
     "exception": false,
     "start_time": "2024-01-13T13:02:36.005586",
     "status": "completed"
    },
    "tags": []
   },
   "outputs": [
    {
     "name": "stdout",
     "output_type": "stream",
     "text": [
      "Old shape:  (4801,)\n",
      "(array([   1,    4,    7,   46,   69,   76,   82,   83,   87,   99,  110,\n",
      "        119,  126,  139,  141,  162,  181,  190,  211,  222,  276,  304,\n",
      "        327,  329,  341,  344,  364,  405,  406,  428,  457,  462,  495,\n",
      "        497,  513,  516,  522,  524,  551,  556,  558,  601,  626,  631,\n",
      "        633,  645,  651,  660,  666,  680,  717,  744,  749,  750,  752,\n",
      "        765,  776,  823,  840,  849,  852,  872,  873,  875,  888,  917,\n",
      "        921,  922,  933,  939,  942, 1008, 1030, 1033, 1063, 1071, 1072,\n",
      "       1075, 1110, 1143, 1177, 1183, 1204, 1209, 1214, 1215, 1224, 1231,\n",
      "       1239, 1245, 1252, 1258, 1263, 1285, 1290, 1295, 1318, 1329, 1342,\n",
      "       1349, 1361, 1371, 1388, 1392, 1395, 1430, 1446, 1453, 1454, 1460,\n",
      "       1465, 1471, 1473, 1481, 1503, 1513, 1519, 1520, 1525, 1543, 1544,\n",
      "       1597, 1638, 1654, 1659, 1715, 1733, 1734, 1736, 1758, 1764, 1776,\n",
      "       1781, 1795, 1796, 1805, 1815, 1823, 1825, 1827, 1835, 1854, 1863,\n",
      "       1877, 1886, 1894, 1896, 1902, 1928, 1936, 1943, 1961, 1966, 1976,\n",
      "       1980, 1982, 1990, 2046, 2076, 2086, 2087, 2089, 2097, 2107, 2121,\n",
      "       2123, 2141, 2146, 2148, 2150, 2171, 2195, 2200, 2221, 2235, 2240,\n",
      "       2251, 2258, 2265, 2272, 2285, 2287, 2299, 2301, 2314, 2317, 2327,\n",
      "       2338, 2346, 2347, 2349, 2357, 2373, 2378, 2398, 2402, 2428, 2435,\n",
      "       2443, 2444, 2449, 2450, 2458, 2498, 2503, 2509, 2536, 2543, 2556,\n",
      "       2570, 2606, 2618, 2653, 2679, 2683, 2686, 2697, 2700, 2705, 2706,\n",
      "       2717, 2723, 2758, 2760, 2775, 2776, 2777, 2817, 2846, 2848, 2850,\n",
      "       2854, 2868, 2878, 2882, 2907, 2919, 2928, 2932, 2939, 2947, 2949,\n",
      "       2967, 2974, 2975, 2976, 2981, 2986, 2989, 2994, 3007, 3009, 3027,\n",
      "       3032, 3049, 3073, 3097, 3111, 3112, 3119, 3128, 3130, 3136, 3171,\n",
      "       3191, 3203, 3228, 3229, 3260, 3270, 3272, 3276, 3309, 3332, 3338,\n",
      "       3344, 3346, 3350, 3366, 3377, 3379, 3388, 3392, 3410, 3417, 3425,\n",
      "       3435, 3439, 3446, 3455, 3459, 3463, 3489, 3490, 3509, 3522, 3524,\n",
      "       3527, 3529, 3544, 3548, 3565, 3569, 3571, 3588, 3589, 3594, 3596,\n",
      "       3614, 3621, 3623, 3644, 3645, 3654, 3657, 3660, 3666, 3669, 3671,\n",
      "       3684, 3693, 3701, 3702, 3714, 3724, 3745, 3746, 3748, 3782, 3786,\n",
      "       3789, 3797, 3803, 3815, 3817, 3818, 3822, 3872, 3875, 3904, 3909,\n",
      "       3920, 3922, 3940, 3942, 3961, 3962, 3983, 3986, 3993, 4014, 4032,\n",
      "       4045, 4068, 4069, 4086, 4116, 4119, 4126, 4128, 4148, 4166, 4214,\n",
      "       4217, 4286, 4295, 4308, 4312, 4317, 4324, 4330, 4336, 4342, 4347,\n",
      "       4363, 4371, 4385, 4408, 4425, 4428, 4435, 4442, 4450, 4456, 4466,\n",
      "       4486, 4493, 4499, 4501, 4505, 4517, 4532, 4533, 4534, 4535, 4539,\n",
      "       4541, 4557, 4559, 4568, 4586, 4588, 4595, 4623, 4627, 4642, 4651,\n",
      "       4661, 4665, 4681, 4683, 4691, 4700, 4707, 4716, 4722, 4728, 4733,\n",
      "       4745, 4746, 4788], dtype=int64),) -- (array([], dtype=int64),)\n",
      "New shape:  (4380, 17)\n",
      "Old shape:  (4380,)\n",
      "(array([  24,   26,   29,   33,   68,  108,  120,  194,  199,  212,  250,\n",
      "        283,  347,  433,  437,  494,  512,  542,  582,  682,  746,  861,\n",
      "        865,  867,  868,  964, 1014, 1028, 1057, 1059, 1147, 1186, 1209,\n",
      "       1305, 1354, 1356, 1377, 1395, 1457, 1467, 1547, 1566, 1611, 1612,\n",
      "       1684, 1699, 1732, 1793, 1794, 1842, 1935, 1972, 2004, 2157, 2177,\n",
      "       2198, 2215, 2285, 2316, 2318, 2342, 2355, 2459, 2538, 2541, 2621,\n",
      "       2624, 2810, 2828, 2830, 2902, 3031, 3043, 3076, 3085, 3152, 3157,\n",
      "       3215, 3235, 3266, 3295, 3373, 3410, 3470, 3535, 3573, 3593, 3640,\n",
      "       3672, 3680, 3718, 3758, 3769, 3779, 3783, 3796, 3799, 3828, 3829,\n",
      "       3833, 3859, 3876, 3887, 3897, 3918, 3922, 3983, 4007, 4027, 4070,\n",
      "       4099, 4132, 4278, 4306, 4366, 4374], dtype=int64),) -- (array([], dtype=int64),)\n",
      "KeyError: [  24   26   29   33   68  108  120  194  199  212  250  283  347  433\n",
      "  437  494  512  542  582  682  746  861  865  867  868  964 1014 1028\n",
      " 1057 1059 1147 1186 1209 1305 1354 1356 1377 1395 1457 1467 1547 1566\n",
      " 1611 1612 1684 1699 1732 1793 1794 1842 1935 1972 2004 2157 2177 2198\n",
      " 2215 2285 2316 2318 2342 2355 2459 2538 2541 2621 2624 2810 2828 2830\n",
      " 2902 3031 3043 3076 3085 3152 3157 3215 3235 3266 3295 3373 3410 3470\n",
      " 3535 3573 3593 3640 3672 3680 3718 3758 3769 3779 3783 3796 3799 3828\n",
      " 3829 3833 3859 3876 3887 3897 3918 3922 3983 4007 4027 4070 4099 4132\n",
      " 4278 4306 4366 4374] not found in axis\n",
      "New shape:  (4380, 17)\n",
      "Old shape:  (4380,)\n",
      "(array([  26,   29,  120,  147,  149,  182,  194,  199,  212,  250,  251,\n",
      "        347,  368,  433,  437,  494,  512,  517,  580,  582,  612,  642,\n",
      "        682,  790,  861,  865,  867,  889,  898,  901,  905,  964,  992,\n",
      "        999, 1014, 1028, 1050, 1057, 1167, 1195, 1305, 1322, 1335, 1354,\n",
      "       1356, 1377, 1454, 1459, 1467, 1492, 1505, 1547, 1611, 1612, 1671,\n",
      "       1684, 1699, 1720, 1723, 1732, 1779, 1793, 1794, 1842, 1851, 1935,\n",
      "       1960, 1972, 2004, 2090, 2148, 2157, 2215, 2240, 2285, 2318, 2342,\n",
      "       2355, 2376, 2459, 2460, 2538, 2541, 2604, 2624, 2629, 2630, 2695,\n",
      "       2763, 2828, 2853, 2908, 3043, 3076, 3143, 3152, 3182, 3235, 3266,\n",
      "       3295, 3354, 3364, 3365, 3373, 3402, 3410, 3411, 3415, 3433, 3448,\n",
      "       3470, 3535, 3537, 3593, 3609, 3631, 3634, 3672, 3680, 3769, 3779,\n",
      "       3796, 3828, 3829, 3833, 3850, 3876, 3887, 3897, 3918, 3983, 4008,\n",
      "       4027, 4088, 4099, 4127, 4132, 4176, 4278, 4371, 4374], dtype=int64),) -- (array([], dtype=int64),)\n",
      "KeyError: [  26   29  120  147  149  182  194  199  212  250  251  347  368  433\n",
      "  437  494  512  517  580  582  612  642  682  790  861  865  867  889\n",
      "  898  901  905  964  992  999 1014 1028 1050 1057 1167 1195 1305 1322\n",
      " 1335 1354 1356 1377 1454 1459 1467 1492 1505 1547 1611 1612 1671 1684\n",
      " 1699 1720 1723 1732 1779 1793 1794 1842 1851 1935 1960 1972 2004 2090\n",
      " 2148 2157 2215 2240 2285 2318 2342 2355 2376 2459 2460 2538 2541 2604\n",
      " 2624 2629 2630 2695 2763 2828 2853 2908 3043 3076 3143 3152 3182 3235\n",
      " 3266 3295 3354 3364 3365 3373 3402 3410 3411 3415 3433 3448 3470 3535\n",
      " 3537 3593 3609 3631 3634 3672 3680 3769 3779 3796 3828 3829 3833 3850\n",
      " 3876 3887 3897 3918 3983 4008 4027 4088 4099 4127 4132 4176 4278 4371\n",
      " 4374] not found in axis\n",
      "New shape:  (4380, 17)\n",
      "Old shape:  (4380,)\n",
      "(array([  24,   29,  120,  147,  149,  182,  229,  285,  437,  494,  512,\n",
      "        580,  599,  727,  790,  822,  867,  875,  889,  898,  901, 1014,\n",
      "       1029, 1033, 1050, 1059, 1136, 1195, 1208, 1209, 1305, 1306, 1316,\n",
      "       1322, 1335, 1354, 1356, 1492, 1505, 1611, 1612, 1671, 1684, 1732,\n",
      "       1779, 1842, 1896, 1935, 1995, 2035, 2073, 2200, 2285, 2355, 2460,\n",
      "       2499, 2518, 2538, 2604, 2624, 2630, 2725, 2908, 3043, 3064, 3094,\n",
      "       3120, 3152, 3235, 3266, 3295, 3411, 3476, 3535, 3672, 3769, 3779,\n",
      "       3799, 3828, 3829, 3833, 3842, 3850, 3876, 3887, 3897, 3979, 4008,\n",
      "       4371], dtype=int64),) -- (array([], dtype=int64),)\n",
      "KeyError: [  24   29  120  147  149  182  229  285  437  494  512  580  599  727\n",
      "  790  822  867  875  889  898  901 1014 1029 1033 1050 1059 1136 1195\n",
      " 1208 1209 1305 1306 1316 1322 1335 1354 1356 1492 1505 1611 1612 1671\n",
      " 1684 1732 1779 1842 1896 1935 1995 2035 2073 2200 2285 2355 2460 2499\n",
      " 2518 2538 2604 2624 2630 2725 2908 3043 3064 3094 3120 3152 3235 3266\n",
      " 3295 3411 3476 3535 3672 3769 3779 3799 3828 3829 3833 3842 3850 3876\n",
      " 3887 3897 3979 4008 4371] not found in axis\n",
      "New shape:  (4380, 17)\n",
      "Old shape:  (4380,)\n",
      "(array([], dtype=int64),) -- (array([], dtype=int64),)\n",
      "New shape:  (4380, 17)\n",
      "Old shape:  (4380,)\n",
      "(array([], dtype=int64),) -- (array([], dtype=int64),)\n",
      "New shape:  (4380, 17)\n"
     ]
    }
   ],
   "source": [
    "for i in df_num:\n",
    "    \n",
    "    # IQR\n",
    "    Q1 = np.percentile(df.loc[:, i],25)\n",
    "    Q3 = np.percentile(df.loc[:, i],75)\n",
    "    \n",
    "    IQR = Q3 - Q1\n",
    "    \n",
    "    print(\"Old shape: \", df.loc[:, i].shape)\n",
    "    \n",
    "    # upper bound\n",
    "    upper = np.where(df.loc[:, i] >= (Q3 +2.5*IQR))\n",
    "    \n",
    "    # lower bound\n",
    "    lower = np.where(df.loc[:, i] <= (Q1 - 2.5*IQR))\n",
    "    \n",
    "    print(\"{} -- {}\".format(upper, lower))\n",
    "    \n",
    "    try:\n",
    "        df.drop(upper[0], inplace = True)\n",
    "    except: print(\"KeyError: {} not found in axis\".format(upper[0]))\n",
    "    \n",
    "    try:\n",
    "        df.drop(lower[0], inplace = True)\n",
    "    except:  print(\"KeyError: {} not found in axis\".format(lower[0]))\n",
    "        \n",
    "    print(\"New shape: \", df.shape)"
   ]
  }
 ],
 "metadata": {
  "kaggle": {
   "accelerator": "none",
   "dataSources": [
    {
     "datasetId": 4269029,
     "sourceId": 7351086,
     "sourceType": "datasetVersion"
    }
   ],
   "dockerImageVersionId": 30635,
   "isGpuEnabled": false,
   "isInternetEnabled": true,
   "language": "python",
   "sourceType": "notebook"
  },
  "kernelspec": {
   "display_name": "Python 3 (ipykernel)",
   "language": "python",
   "name": "python3"
  },
  "language_info": {
   "codemirror_mode": {
    "name": "ipython",
    "version": 3
   },
   "file_extension": ".py",
   "mimetype": "text/x-python",
   "name": "python",
   "nbconvert_exporter": "python",
   "pygments_lexer": "ipython3",
   "version": "3.8.8"
  },
  "papermill": {
   "default_parameters": {},
   "duration": 13.833591,
   "end_time": "2024-01-13T13:02:36.862597",
   "environment_variables": {},
   "exception": null,
   "input_path": "__notebook__.ipynb",
   "output_path": "__notebook__.ipynb",
   "parameters": {},
   "start_time": "2024-01-13T13:02:23.029006",
   "version": "2.4.0"
  }
 },
 "nbformat": 4,
 "nbformat_minor": 5
}
